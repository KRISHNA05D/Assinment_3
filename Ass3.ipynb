{
 "cells": [
  {
   "cell_type": "markdown",
   "id": "8600fabb-eefe-4a21-8542-c1439ea712d3",
   "metadata": {},
   "source": [
    "QUESTION:-1\n",
    "Create a python program to sort the given list of tuples based on integer value using a\n",
    "lambda function.\n",
    "[('Sachin Tendulkar', 34357), ('Ricky Ponting', 27483), ('Jack Kallis', 25534), ('Virat Kohli', 24936)]"
   ]
  },
  {
   "cell_type": "code",
   "execution_count": 8,
   "id": "fa670099-48e5-437d-a45f-eefa45795f4e",
   "metadata": {},
   "outputs": [
    {
     "name": "stdout",
     "output_type": "stream",
     "text": [
      "The Sorted of Tuple is: [('Virat Kohli', 24936), ('Jack Kallis', 25534), ('Ricky Ponting', 27483), ('Sachin Tendulkar', 34357)]\n",
      "The Sorted of Tuple in reverse order: [('Sachin Tendulkar', 34357), ('Ricky Ponting', 27483), ('Jack Kallis', 25534), ('Virat Kohli', 24936)]\n"
     ]
    }
   ],
   "source": [
    "#ANSWER \n",
    "T=[('Sachin Tendulkar', 34357), ('Ricky Ponting', 27483), ('Jack Kallis', 25534), ('Virat Kohli', 24936)]\n",
    "Sorted=sorted(T,key=lambda x:x[1])\n",
    "print('The Sorted of Tuple is:',Sorted)\n",
    "Sorted_R=sorted(T,key=lambda x:x[1], reverse=True)\n",
    "print('The Sorted of Tuple in reverse order:',Sorted_R)"
   ]
  },
  {
   "cell_type": "markdown",
   "id": "6e74b250-b951-470f-92c8-cc1821ff3338",
   "metadata": {},
   "source": [
    "QUESTION:-2\n",
    "Write a Python Program to find the squares of all the numbers in the given list of integers using\n",
    "lambda and map functions.\n",
    "[1, 2, 3, 4, 5, 6, 7, 8, 9, 10]"
   ]
  },
  {
   "cell_type": "code",
   "execution_count": 9,
   "id": "cbeb7421-24e7-4ac8-90fd-14be2c1dfd5e",
   "metadata": {},
   "outputs": [
    {
     "name": "stdout",
     "output_type": "stream",
     "text": [
      "[1, 4, 9, 16, 25, 36, 49, 64, 81, 100]\n"
     ]
    }
   ],
   "source": [
    "#ANSWER\n",
    "L=[1,2,3,4,5,6,7,8,9,10]\n",
    "print(list(map(lambda x:x**2,L)))"
   ]
  },
  {
   "cell_type": "raw",
   "id": "af64bc1f-de84-47b7-81c6-3ddb685bd31d",
   "metadata": {},
   "source": [
    "QUESTION:-3\n",
    "Write a python program to convert the given list of integers into a tuple of strings. Use map and\n",
    "lambda functions.\n",
    "Given String: [1, 2, 3, 4, 5, 6, 7, 8, 9, 10]\n",
    "Expected output: ('1', '2', '3', '4', '5', '6', '7', '8', '9', '10')"
   ]
  },
  {
   "cell_type": "code",
   "execution_count": 2,
   "id": "c6a92d4b-dab2-4dea-9d43-b6fdc569e4f4",
   "metadata": {},
   "outputs": [
    {
     "name": "stdout",
     "output_type": "stream",
     "text": [
      "('1', '2', '3', '4', '5', '6', '7', '8', '9', '10')\n"
     ]
    }
   ],
   "source": [
    "#ANSWER\n",
    "L=[1,2,3,4,5,6,7,8,9,10]\n",
    "print(tuple(map(lambda x:str(x),L)))"
   ]
  },
  {
   "cell_type": "raw",
   "id": "2b6aad4c-6a14-4ba6-af17-6a343669b29d",
   "metadata": {},
   "source": [
    "QUESTION:-4\n",
    "Write a python program using reduce function to compute the product of a list containing numbers\n",
    "from 1 to 25."
   ]
  },
  {
   "cell_type": "code",
   "execution_count": 3,
   "id": "6d8bd747-8de6-41f6-9f60-67c6710408ec",
   "metadata": {},
   "outputs": [
    {
     "name": "stdout",
     "output_type": "stream",
     "text": [
      "15511210043330985984000000\n"
     ]
    }
   ],
   "source": [
    "#ANSWER\n",
    "from functools import reduce\n",
    "L=[1,2,3,4,5,6,7,8,9,10,11,12,13,14,15,16,17,18,19,20,21,22,23,24,25]\n",
    "print(reduce(lambda x,y:x*y,L))"
   ]
  },
  {
   "cell_type": "raw",
   "id": "520cb6a0-9173-4689-a7a3-90079c058a25",
   "metadata": {},
   "source": [
    "QUESTION:-5\n",
    "Write a python program to filter the numbers in a given list that are divisible by 2 and 3 using the\n",
    "filter function.\n",
    "[2, 3, 6, 9, 27, 60, 90, 120, 55, 46]"
   ]
  },
  {
   "cell_type": "code",
   "execution_count": 9,
   "id": "8cbd61cb-c4b4-42cd-98d8-d1d1674b27ee",
   "metadata": {},
   "outputs": [
    {
     "name": "stdout",
     "output_type": "stream",
     "text": [
      "[6, 60, 90, 120]\n"
     ]
    }
   ],
   "source": [
    "#ANSWER\n",
    "l=[2, 3, 6, 9, 27, 60, 90, 120, 55, 46]\n",
    "print(list(filter(lambda x: x%2==0 and x%3==0,l)))"
   ]
  },
  {
   "cell_type": "raw",
   "id": "80130512-677e-40dd-a01b-b9eecfb41757",
   "metadata": {},
   "source": [
    "QUESTION:-6\n",
    "Write a python program to find palindromes in the given list of strings using lambda and filter\n",
    "function.\n",
    "['python', 'php', 'aba', 'radar', 'level']"
   ]
  },
  {
   "cell_type": "code",
   "execution_count": 16,
   "id": "0a273b1f-2e2e-46c1-892b-dee9472127fa",
   "metadata": {},
   "outputs": [
    {
     "name": "stdout",
     "output_type": "stream",
     "text": [
      "['php', 'aba', 'radar', 'level']\n"
     ]
    }
   ],
   "source": [
    "#ANSWER\n",
    "L=['python', 'php', 'aba', 'radar', 'level']\n",
    "print(list(filter(lambda x:x==x[::-1],L)))"
   ]
  },
  {
   "cell_type": "code",
   "execution_count": null,
   "id": "30c221d4-bf9d-4dd5-b11f-de243a8d70ae",
   "metadata": {},
   "outputs": [],
   "source": []
  }
 ],
 "metadata": {
  "kernelspec": {
   "display_name": "Python 3 (ipykernel)",
   "language": "python",
   "name": "python3"
  },
  "language_info": {
   "codemirror_mode": {
    "name": "ipython",
    "version": 3
   },
   "file_extension": ".py",
   "mimetype": "text/x-python",
   "name": "python",
   "nbconvert_exporter": "python",
   "pygments_lexer": "ipython3",
   "version": "3.10.8"
  }
 },
 "nbformat": 4,
 "nbformat_minor": 5
}
